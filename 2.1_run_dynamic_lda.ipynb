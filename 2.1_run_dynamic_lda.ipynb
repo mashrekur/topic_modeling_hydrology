{
 "cells": [
  {
   "cell_type": "code",
   "execution_count": 1,
   "metadata": {},
   "outputs": [],
   "source": [
    "import logging\n",
    "import pickle as pkl\n",
    "import gensim\n",
    "import numpy as np\n",
    "import argparse\n",
    "from gensim.models import LdaSeqModel"
   ]
  },
  {
   "cell_type": "code",
   "execution_count": 3,
   "metadata": {},
   "outputs": [
    {
     "name": "stderr",
     "output_type": "stream",
     "text": [
      "usage: ipykernel_launcher.py [-h] [--num-topics NUM_TOPICS]\n",
      "ipykernel_launcher.py: error: unrecognized arguments: -f /run/user/5004/jupyter/kernel-70ed7954-1505-4ad0-b777-0fec2935ceca.json\n"
     ]
    },
    {
     "ename": "SystemExit",
     "evalue": "2",
     "output_type": "error",
     "traceback": [
      "An exception has occurred, use %tb to see the full traceback.\n",
      "\u001b[0;31mSystemExit\u001b[0m\u001b[0;31m:\u001b[0m 2\n"
     ]
    }
   ],
   "source": [
    "def run_lda(num_topics):\n",
    "    \n",
    "    print('Number of Topics: ', num_topics)\n",
    "\n",
    "    # enable logging\n",
    "    logging.basicConfig(filename=f'log_files/gensim_prespecified_topics_{num_topics}.log',\n",
    "                        format=\"%(asctime)s:%(levelname)s:%(message)s\",\n",
    "                        level=logging.INFO)\n",
    "\n",
    "    # load cleaned corpus\n",
    "    with open('data/cleaned_corpus.pkl', 'rb') as f:\n",
    "        corpus = pkl.load(f)\n",
    "    with open(\"data/id2word.pkl\", 'rb') as f:\n",
    "        id2word= pkl.load(f)\n",
    "\n",
    "    # Train the LDA model with a prespecified number of topics\n",
    "    lda_model = gensim.models.ldaseqmodel.LdaSeqModel(corpus=corpus,\n",
    "#                                                       time_slice = \n",
    "                                                      id2word=id2word,\n",
    "                                                      num_topics=num_topics,\n",
    "                                                      random_state=100,\n",
    "                                                      chunksize=100,\n",
    "                                                      passes=3000,\n",
    "    #                                                 iterations=10000,\n",
    "    #                                                 minimum_probability=0,\n",
    "                                                      per_word_topics=True)\n",
    "\n",
    "\n",
    "    lda_model.save(f\"trained_models/trained_lda_model_{lda_model.num_topics}\")\n",
    "\n",
    "    # Run the model\n",
    "    doc_lda = lda_model[corpus]\n",
    "\n",
    "    # Extract the topic distributions for each paper as numpy array\n",
    "    hm = np.zeros([len(corpus), lda_model.num_topics])\n",
    "    for i in tqdm(range(len(doc_lda))):\n",
    "        for topic_pair in doc_lda[i][0]:\n",
    "            hm[i, topic_pair[0]] = topic_pair[1]\n",
    "\n",
    "    # Save topic distributions as numpy array\n",
    "    np.save(f'data/topic_distributions_{lda_model.num_topics}', hm)\n",
    "    \n",
    "    return\n",
    "    \n",
    "if __name__ == \"__main__\":\n",
    "    \n",
    "    # input argumnets\n",
    "    parser = argparse.ArgumentParser()\n",
    "    parser.add_argument('--num-topics', type=int)\n",
    "    args = vars(parser.parse_args())\n",
    "    \n",
    "    # run the training procedure\n",
    "    run_lda(args['num_topics'])"
   ]
  },
  {
   "cell_type": "code",
   "execution_count": null,
   "metadata": {},
   "outputs": [],
   "source": []
  },
  {
   "cell_type": "code",
   "execution_count": null,
   "metadata": {},
   "outputs": [],
   "source": []
  },
  {
   "cell_type": "code",
   "execution_count": null,
   "metadata": {},
   "outputs": [],
   "source": []
  },
  {
   "cell_type": "code",
   "execution_count": null,
   "metadata": {},
   "outputs": [],
   "source": []
  }
 ],
 "metadata": {
  "kernelspec": {
   "display_name": "Python 3",
   "language": "python",
   "name": "python3"
  },
  "language_info": {
   "codemirror_mode": {
    "name": "ipython",
    "version": 3
   },
   "file_extension": ".py",
   "mimetype": "text/x-python",
   "name": "python",
   "nbconvert_exporter": "python",
   "pygments_lexer": "ipython3",
   "version": "3.7.3"
  }
 },
 "nbformat": 4,
 "nbformat_minor": 2
}
