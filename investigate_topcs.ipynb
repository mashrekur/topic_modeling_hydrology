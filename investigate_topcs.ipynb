{
 "cells": [
  {
   "cell_type": "code",
   "execution_count": 1,
   "metadata": {},
   "outputs": [],
   "source": [
    "import pickle as pkl\n",
    "from gensim.models import LdaModel\n",
    "import numpy as np\n",
    "from tqdm import tqdm"
   ]
  },
  {
   "cell_type": "code",
   "execution_count": 2,
   "metadata": {},
   "outputs": [],
   "source": [
    "# load raw corpus dataframe\n",
    "with open('data/raw_corpus.pkl', 'rb') as f:\n",
    "    corpus_df = pkl.load(f)\n",
    "    \n",
    "# load cleaned corpus\n",
    "with open('data/cleaned_corpus.pkl', 'rb') as f:\n",
    "    corpus = pkl.load(f)[0]"
   ]
  },
  {
   "cell_type": "code",
   "execution_count": 3,
   "metadata": {},
   "outputs": [],
   "source": [
    "nTopics = 25"
   ]
  },
  {
   "cell_type": "code",
   "execution_count": 4,
   "metadata": {},
   "outputs": [],
   "source": [
    "# Load model\n",
    "lda_model = LdaModel.load(f'trained_models/trained_lda_model_{nTopics}')"
   ]
  },
  {
   "cell_type": "code",
   "execution_count": 5,
   "metadata": {},
   "outputs": [],
   "source": [
    "# run the model\n",
    "doc_lda = lda_model[corpus]"
   ]
  },
  {
   "cell_type": "code",
   "execution_count": 6,
   "metadata": {},
   "outputs": [],
   "source": [
    "# Load topic distributions\n",
    "topic_distributions = np.load(f'data/topic_distributions_{lda_model.num_topics}.npy')"
   ]
  },
  {
   "cell_type": "code",
   "execution_count": 12,
   "metadata": {},
   "outputs": [
    {
     "name": "stderr",
     "output_type": "stream",
     "text": [
      "/home/mashrekur/anaconda3/lib/python3.7/site-packages/ipykernel_launcher.py:3: FutureWarning: The signature of `Series.to_csv` was aligned to that of `DataFrame.to_csv`, and argument 'header' will change its default value from False to True: please pass an explicit value to suppress this warning.\n",
      "  This is separate from the ipykernel package so we can avoid doing imports until\n"
     ]
    }
   ],
   "source": [
    "topic = 23\n",
    "topic_idx = (-topic_distributions[:,topic]).argsort()\n",
    "corpus_df.loc[topic_idx[:100],'Title'].to_csv(f'topic_{topic}.csv')"
   ]
  },
  {
   "cell_type": "code",
   "execution_count": null,
   "metadata": {},
   "outputs": [],
   "source": [
    "# Topic 0: Precipitation Extremems & Distributions\n",
    "# Topic 1: Climate Change\n",
    "# Topic 2: River Networks, Topography, & Scaling\n",
    "# Topic 3: Hydrogeology\n",
    "# Topic 4: Forecasting\n",
    "# Topic 5: Energy Balance (Hydrometeorology, Land Surface)\n",
    "# Topic 6: Snow and Ice\n",
    "# Topic 7: Sediment & Erosion\n",
    "# Topic 8: Water Resources Management\n",
    "# Topic 9: Hydrogeomorphology\n",
    "# Topic 10: Uncertainty & Calibration\n",
    "# Topic 11: Statistical Hydrology\n",
    "# Topic 12: Quality & Transport\n",
    "# Topic 13: Miscilaneous\n",
    "# Topic 14: Soil Moisture\n",
    "# Topic 15: Floods & Discharge\n",
    "# Topic 16: Precipitation Trends & Climatology"
   ]
  },
  {
   "cell_type": "code",
   "execution_count": null,
   "metadata": {},
   "outputs": [],
   "source": []
  }
 ],
 "metadata": {
  "kernelspec": {
   "display_name": "Python 3",
   "language": "python",
   "name": "python3"
  },
  "language_info": {
   "codemirror_mode": {
    "name": "ipython",
    "version": 3
   },
   "file_extension": ".py",
   "mimetype": "text/x-python",
   "name": "python",
   "nbconvert_exporter": "python",
   "pygments_lexer": "ipython3",
   "version": "3.7.3"
  }
 },
 "nbformat": 4,
 "nbformat_minor": 4
}
