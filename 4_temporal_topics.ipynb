{
 "cells": [
  {
   "cell_type": "code",
   "execution_count": 1,
   "metadata": {},
   "outputs": [],
   "source": [
    "from gensim.models import LdaModel\n",
    "import pickle as pkl\n",
    "import numpy as np\n",
    "# # import matplotlib.colors as mcolors\n",
    "from nltk.corpus import stopwords\n",
    "from wordcloud import WordCloud #, STOPWORDS\n",
    "from matplotlib import pyplot as plt\n",
    "# # import matplotlib.colors as mcolors\n",
    "# # from tqdm import tqdm\n",
    "# # # import pandas as pd\n",
    "# # # import matplotlib.pyplot as plt"
   ]
  },
  {
   "cell_type": "code",
   "execution_count": 2,
   "metadata": {},
   "outputs": [],
   "source": [
    "# Optimal number of topics\n",
    "nTopics = 30"
   ]
  },
  {
   "cell_type": "code",
   "execution_count": 3,
   "metadata": {},
   "outputs": [],
   "source": [
    "# Define colors to associate with each topic\n",
    "custom_colors = {\n",
    " 'burlywood': '#DEB887',\n",
    " 'chocolate': '#D2691E',\n",
    " 'crimson': '#DC143C',\n",
    " 'darkgreen': '#006400',\n",
    " 'darkorange': '#FF8C00',\n",
    " 'darkslategrey': '#2F4F4F',\n",
    " 'deepskyblue': '#00BFFF',\n",
    " 'dimgray': '#696969',\n",
    " 'firebrick': '#B22222',\n",
    " 'gold': '#FFD700',\n",
    " 'goldenrod': '#DAA520',\n",
    " 'lawngreen': '#7CFC00',\n",
    " 'lightcoral': '#F08080',\n",
    " 'lightpink': '#FFB6C1',\n",
    " 'mediumvioletred': '#C71585',\n",
    " 'orangered': '#FF4500',\n",
    " 'orchid': '#DA70D6',\n",
    " 'royalblue': '#4169E1',\n",
    " 'slateblue': '#6A5ACD',\n",
    " 'springgreen': '#00FF7F',\n",
    " 'steelblue': '#4682B4',\n",
    " 'teal': '#008080',\n",
    " 'turquoise': '#40E0D0',\n",
    " 'yellow': '#FFFF00',\n",
    " 'blueviolet': '#8A2BE2',\n",
    " 'yellowgreen': '#9ACD32'}\n",
    "\n",
    "# turn into a list\n",
    "colorlist = []\n",
    "for color in custom_colors.values():\n",
    "    colorlist.append(tuple(int(color.lstrip('#')[i:i+2], 16) for i in (0, 2, 4)))"
   ]
  },
  {
   "cell_type": "markdown",
   "metadata": {},
   "source": [
    "# Load Data"
   ]
  },
  {
   "cell_type": "code",
   "execution_count": 4,
   "metadata": {},
   "outputs": [],
   "source": [
    "# Load model\n",
    "lda_model = LdaModel.load(f'trained_models/trained_lda_model_{nTopics}')"
   ]
  },
  {
   "cell_type": "code",
   "execution_count": 5,
   "metadata": {},
   "outputs": [],
   "source": [
    "# Load topic distributions\n",
    "topic_distributions = np.load(f'data/topic_distributions_{lda_model.num_topics}.npy')"
   ]
  },
  {
   "cell_type": "code",
   "execution_count": 6,
   "metadata": {},
   "outputs": [],
   "source": [
    "# Load raw corpus dataframe\n",
    "with open('data/raw_corpus.pkl', 'rb') as f:\n",
    "    corpus_df = pkl.load(f)"
   ]
  },
  {
   "cell_type": "code",
   "execution_count": 7,
   "metadata": {},
   "outputs": [],
   "source": [
    "# Pull topics\n",
    "topics = lda_model.show_topics(formatted=False, num_topics=nTopics, num_words=20)"
   ]
  },
  {
   "cell_type": "code",
   "execution_count": 8,
   "metadata": {},
   "outputs": [],
   "source": [
    "# Define topic names\n",
    "topic_names = ['Reservoir Modeling',\n",
    "               'Quantitative Methods',\n",
    "               'Water Quality Monitoring',\n",
    "               'Water Resource Management',\n",
    "               'Climate Change',\n",
    "               'Transport & Tracers',\n",
    "               'Sediment and Erosion',\n",
    "               'Land Surface',\n",
    "               'Hydrogeology',\n",
    "               'Soil Moisture',\n",
    "               'Snow Hydrology',\n",
    "               'Water Quality Remediation',\n",
    "               'Groundwater',\n",
    "               'Channel Flow',\n",
    "               'Vadose Zone',\n",
    "               'Watershed Hydrology',\n",
    "               'Modeling',\n",
    "               '????',\n",
    "               'Biochemical',\n",
    "               'Floods',\n",
    "               'Pollutant runoff'\n",
    "              ]"
   ]
  },
  {
   "cell_type": "markdown",
   "metadata": {},
   "source": [
    "# Create WordClouds and Trend Plots"
   ]
  },
  {
   "cell_type": "code",
   "execution_count": 9,
   "metadata": {},
   "outputs": [],
   "source": [
    "# calculate time series\n",
    "years = np.unique(corpus_df['Year'])\n",
    "topic_distributions_by_year = np.zeros([len(years), lda_model.num_topics])\n",
    "for y, year in enumerate(years):\n",
    "    hm_year = topic_distributions[corpus_df['Year'] == year,:]\n",
    "    topic_distributions_by_year[y,:] = np.sum(hm_year, axis=0) / np.sum(hm_year)"
   ]
  },
  {
   "cell_type": "code",
   "execution_count": 10,
   "metadata": {},
   "outputs": [],
   "source": [
    "# create wordclouds\n",
    "stop_words = stopwords.words('english')\n",
    "cloud = WordCloud(stopwords=stop_words,\n",
    "                  background_color='white',\n",
    "                  width=3500,\n",
    "                  height=3500,\n",
    "                  max_words=15,\n",
    "                  color_func=lambda *args, **kwargs: colorlist[t],\n",
    "                  prefer_horizontal=1.0)"
   ]
  },
  {
   "cell_type": "code",
   "execution_count": null,
   "metadata": {},
   "outputs": [],
   "source": [
    "# Plot wordclouds and scaled time series\n",
    "fig = plt.figure(figsize=(12, 3*nTopics))\n",
    "gs = fig.add_gridspec(nTopics,3)\n",
    "for t in range(nTopics):\n",
    "    \n",
    "    # plot time series\n",
    "    ax1 = fig.add_subplot(gs[t, 1:])\n",
    "    ax1.plot(years, topic_distributions_by_year[:,t], color=list(custom_colors.values())[t], linewidth=8)\n",
    "    ax1.set_title(topic_names[t])\n",
    "    ax1.set_xticks(years[4::5])\n",
    "    ax1.set_ylabel('Popularity')\n",
    "    ax1.grid()\n",
    "    \n",
    "    # plot wordclouds\n",
    "    ax0 = fig.add_subplot(gs[t, 0])\n",
    "    topic_words = dict(topics[t][1])\n",
    "    cloud.generate_from_frequencies(topic_words, max_font_size=1500)\n",
    "    ax0.imshow(cloud)\n",
    "    ax0.axis('off')\n",
    "    \n",
    "fig.tight_layout()\n",
    "\n",
    "# Save figure\n",
    "plt.savefig('figures/wordclouds_and_trends.png')"
   ]
  },
  {
   "cell_type": "code",
   "execution_count": null,
   "metadata": {},
   "outputs": [],
   "source": [
    "# Plot relative time series\n",
    "fig, ax = plt.figure(figsize=(10, 5), dpi=80, facecolor='w', edgecolor='k')\n",
    "\n",
    "for i in range(lda_model.num_topics):\n",
    "    r, g, b = tableau20[i]  \n",
    "    pltcolor = (r / 255., g / 255., b / 255.)\n",
    "    ax.plot(years, popularity_all_journals[:,i], \n",
    "             color = pltcolor, linewidth=3, label=labels[i])\n",
    "    \n",
    "ax.set_xlim([1,47])\n",
    "ax.set_xticks(years[5::5], fontsize=14)\n",
    "ax.set_yticks(fontsize=14)\n",
    "# ax.set_xlabel('Year of Publication', fontsize=20)\n",
    "ax.legend()\n",
    "ax.set_ylabel('Popularity', fontsize=20)\n",
    "ax.set_title('Relative Popularity of Topics', fontsize=28)\n",
    "ax.grid()\n",
    "\n",
    "# Save figure\n",
    "plt.savefig('figures/relative_topic_trends.png')"
   ]
  },
  {
   "cell_type": "code",
   "execution_count": null,
   "metadata": {},
   "outputs": [],
   "source": []
  },
  {
   "cell_type": "code",
   "execution_count": null,
   "metadata": {},
   "outputs": [],
   "source": []
  }
 ],
 "metadata": {
  "kernelspec": {
   "display_name": "Python 3",
   "language": "python",
   "name": "python3"
  },
  "language_info": {
   "codemirror_mode": {
    "name": "ipython",
    "version": 3
   },
   "file_extension": ".py",
   "mimetype": "text/x-python",
   "name": "python",
   "nbconvert_exporter": "python",
   "pygments_lexer": "ipython3",
   "version": "3.7.6"
  }
 },
 "nbformat": 4,
 "nbformat_minor": 2
}
