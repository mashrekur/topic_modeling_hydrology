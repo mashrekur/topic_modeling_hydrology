{
 "cells": [
  {
   "cell_type": "code",
   "execution_count": null,
   "metadata": {},
   "outputs": [],
   "source": [
    "import logging\n",
    "import pickle as pkl\n",
    "import gensim\n",
    "import numpy as np\n",
    "from gensim.models import LdaSeqModel"
   ]
  },
  {
   "cell_type": "code",
   "execution_count": null,
   "metadata": {},
   "outputs": [],
   "source": [
    "# enable logging\n",
    "logging.basicConfig(filename='log_files/DTM_prespecified_topics.log',\n",
    "                    format=\"%(asctime)s:%(levelname)s:%(message)s\",\n",
    "                    level=logging.INFO)"
   ]
  },
  {
   "cell_type": "code",
   "execution_count": null,
   "metadata": {},
   "outputs": [],
   "source": [
    "# load cleaned corpus\n",
    "with open('data/raw_corpus_dtm.pkl', 'rb') as f:\n",
    "    corpus_df = pkl.load(f)\n",
    "with open('data/cleaned_corpus_dtm.pkl', 'rb') as f:\n",
    "    corpus = pkl.load(f)\n",
    "with open(\"data/id2word_dtm.pkl\", 'rb') as f:\n",
    "    id2word= pkl.load(f)"
   ]
  },
  {
   "cell_type": "code",
   "execution_count": null,
   "metadata": {},
   "outputs": [],
   "source": [
    "#takes all unique values in data - year as well as how often they occur and returns them as an array.\n",
    "uniqueyears, time_slices = np.unique(corpus_df.Year, return_counts=True) \n",
    "#this array will be used for time slicing while training the LDA sequential model\n",
    "print(np.asarray((uniqueyears, time_slices)).T) \n"
   ]
  },
  {
   "cell_type": "code",
   "execution_count": null,
   "metadata": {},
   "outputs": [],
   "source": [
    "# Choose the number of topics\n",
    "nTopics = 40"
   ]
  },
  {
   "cell_type": "code",
   "execution_count": null,
   "metadata": {},
   "outputs": [],
   "source": [
    "# Train the LDA model with a prespecified number of topics\n",
    "lda_model =                   LdaSeqModel(corpus=corpus,\n",
    "                                          time_slice=time_slices,\n",
    "                                           id2word=id2word,\n",
    "                                           num_topics=nTopics, \n",
    "                                           random_state=100,\n",
    "                                           chunksize=100,\n",
    "                                           passes=3000)"
   ]
  },
  {
   "cell_type": "code",
   "execution_count": null,
   "metadata": {},
   "outputs": [],
   "source": [
    "# Save the trained DTM\n",
    "lda_model.save(f\"trained_models/trained_DTM_{lda_model.num_topics}\")"
   ]
  },
  {
   "cell_type": "code",
   "execution_count": null,
   "metadata": {},
   "outputs": [],
   "source": [
    "# Extract the topic distributions for each paper as numpy array\n",
    "hm = np.zeros([len(corpus), lda_model.num_topics])\n",
    "for i in range(len(doc_lda)):\n",
    "    for topic_pair in doc_lda[i][0]:\n",
    "        hm[i, topic_pair[0]] = topic_pair[1]\n"
   ]
  },
  {
   "cell_type": "code",
   "execution_count": null,
   "metadata": {},
   "outputs": [],
   "source": [
    "# Save topic distributions as numpy array\n",
    "np.save(f'data/topic_distributions_DTM_{lda_model.num_topics}', hm)"
   ]
  }
 ],
 "metadata": {
  "kernelspec": {
   "display_name": "Python 3",
   "language": "python",
   "name": "python3"
  },
  "language_info": {
   "codemirror_mode": {
    "name": "ipython",
    "version": 3
   },
   "file_extension": ".py",
   "mimetype": "text/x-python",
   "name": "python",
   "nbconvert_exporter": "python",
   "pygments_lexer": "ipython3",
   "version": "3.7.3"
  }
 },
 "nbformat": 4,
 "nbformat_minor": 2
}
