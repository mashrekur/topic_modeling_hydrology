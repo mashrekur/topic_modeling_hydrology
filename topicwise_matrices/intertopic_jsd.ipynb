{
 "cells": [
  {
   "cell_type": "code",
   "execution_count": 1,
   "metadata": {},
   "outputs": [],
   "source": [
    "import numpy as np\n",
    "import pickle as pkl\n",
    "import pandas as pd \n",
    "from gensim.models import LdaModel\n",
    "import json\n",
    "import pickle"
   ]
  },
  {
   "cell_type": "code",
   "execution_count": 2,
   "metadata": {},
   "outputs": [],
   "source": [
    "nTopics = 30"
   ]
  },
  {
   "cell_type": "code",
   "execution_count": 3,
   "metadata": {},
   "outputs": [],
   "source": [
    "# Load model\n",
    "lda_model = LdaModel.load(f'../trained_models/trained_lda_model_new_{nTopics}')\n",
    "\n",
    "# Load topic distributions\n",
    "topic_distributions = np.load(f'../data/topic_distributions_new_{lda_model.num_topics}.npy')\n",
    "\n",
    "# Pull topics\n",
    "topics = lda_model.show_topics(formatted=False, num_topics=nTopics, num_words=20)\n",
    "\n",
    "# load raw corpus dataframe\n",
    "with open('../data/raw_corpus_mallet.pkl', 'rb') as f:\n",
    "    corpus_df = pkl.load(f)"
   ]
  },
  {
   "cell_type": "code",
   "execution_count": 4,
   "metadata": {},
   "outputs": [],
   "source": [
    "#convert all nans to zeros and all zeros to a very small number\n",
    "# topic_distributions = np.nan_to_num(topic_distributions)\n",
    "topic_distributions = np.where(topic_distributions == 0, 0.000001, topic_distributions)"
   ]
  },
  {
   "cell_type": "code",
   "execution_count": null,
   "metadata": {},
   "outputs": [],
   "source": [
    "#calculate JSD for all pairs of papers\n",
    "#the max force values (dist) are capped to 1000 later on\n",
    "def calc_KL_divergence(paper1,paper2):\n",
    "    return -np.nansum(paper1 * np.log(paper2/paper1))\n",
    "def jensen_shannon_distance(paper1,paper2):\n",
    "    M=0.5*(paper1+paper2)\n",
    "    D1=calc_KL_divergence(paper1,M)\n",
    "    D2=calc_KL_divergence(paper2,M)\n",
    "    JSDiv = 0.5*D1+0.5*D2\n",
    "    JSD = np.sqrt(JSDiv)\n",
    "    return JSD"
   ]
  },
  {
   "cell_type": "code",
   "execution_count": null,
   "metadata": {},
   "outputs": [],
   "source": [
    "jsd_arr  = {}\n",
    "\n",
    "topic_list = list(range(30))\n",
    "\n",
    "for k1, t1 in enumerate(topic_list):\n",
    "    for k2, t2 in enumerate(topic_list):\n",
    "        fname = str(t1).zfill(2)+str(t2).zfill(2)\n",
    "        if fname in jsd_arr.keys():\n",
    "            continue\n",
    "        jsd_arr[fname] = np.array([])\n",
    "        if k1==k2:\n",
    "            calc_jsd = False\n",
    "        else:\n",
    "            calc_jsd = True\n",
    "            for p1, paper1 in enumerate(corpus_df[\"Title\"][:]):\n",
    "                for p2, paper2 in enumerate(corpus_df[\"Title\"][:]):\n",
    "\n",
    "                    if p1 == p2:\n",
    "                        dist = 0\n",
    "                    else:\n",
    "                        JSD = jensen_shannon_distance(topic_distributions[p1, k1], topic_distributions[p2, k2])\n",
    "                        dist = round(1/JSD, 2)\n",
    "                        jsd_arr[fname] = np.append(jsd_arr[fname], dist)\n",
    "#             print(jsd_arr[fname])\n",
    "            np.save(fname, jsd_arr[fname], allow_pickle=True, fix_imports=True)\n",
    "             "
   ]
  }
 ],
 "metadata": {
  "kernelspec": {
   "display_name": "Python 3",
   "language": "python",
   "name": "python3"
  },
  "language_info": {
   "codemirror_mode": {
    "name": "ipython",
    "version": 3
   },
   "file_extension": ".py",
   "mimetype": "text/x-python",
   "name": "python",
   "nbconvert_exporter": "python",
   "pygments_lexer": "ipython3",
   "version": "3.7.3"
  }
 },
 "nbformat": 4,
 "nbformat_minor": 2
}
