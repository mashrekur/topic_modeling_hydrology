{
 "cells": [
  {
   "cell_type": "code",
   "execution_count": 1,
   "metadata": {},
   "outputs": [],
   "source": [
    "import pandas as pd\n",
    "import glob\n",
    "import pycountry\n",
    "import pickle\n",
    "import re\n",
    "from tqdm.notebook import tqdm\n",
    "import gensim\n",
    "import nltk\n",
    "from nltk.corpus import stopwords\n",
    "from gensim.utils import simple_preprocess\n",
    "from gensim import corpora\n",
    "import spacy\n",
    "import matplotlib.pyplot as plt"
   ]
  },
  {
   "cell_type": "code",
   "execution_count": 2,
   "metadata": {
    "scrolled": true
   },
   "outputs": [],
   "source": [
    "# list of all bibtext files\n",
    "file_list = glob.glob('bibtex_files/**/*.bib')"
   ]
  },
  {
   "cell_type": "code",
   "execution_count": 3,
   "metadata": {},
   "outputs": [],
   "source": [
    "# init storage\n",
    "columns = ['DOI', 'Year', 'Journal', 'Title', 'Abstract', 'Affiliation']\n",
    "corpus_df = pd.DataFrame(columns = columns)"
   ]
  },
  {
   "cell_type": "code",
   "execution_count": null,
   "metadata": {},
   "outputs": [
    {
     "data": {
      "application/vnd.jupyter.widget-view+json": {
       "model_id": "73b975ed3e9a4a5a8a69cf214dcc0385",
       "version_major": 2,
       "version_minor": 0
      },
      "text/plain": [
       "HBox(children=(FloatProgress(value=0.0, max=128.0), HTML(value='')))"
      ]
     },
     "metadata": {},
     "output_type": "display_data"
    }
   ],
   "source": [
    "# extract information from all bibtex entries -- store in dataframe\n",
    "\n",
    "# loop through bib files\n",
    "paper_count = -1\n",
    "for working_file in tqdm(file_list):\n",
    "    \n",
    "    # read bibtex file by line\n",
    "    with open(working_file) as fp:\n",
    "        \n",
    "        # read first line\n",
    "        line = fp.readline()\n",
    "        \n",
    "        # loop until end of file\n",
    "        while line:\n",
    "            \n",
    "            # read active line\n",
    "            line = fp.readline()\n",
    "            \n",
    "            # find start of a new paper\n",
    "            if line[:8] == '@article':\n",
    "                paper_count = paper_count + 1\n",
    "            \n",
    "            # pull components\n",
    "            if line[:5] == 'Title':\n",
    "                title = line.split('{{')[1].split('}}')[0]\n",
    "                corpus_df.loc[paper_count, 'Title'] = title\n",
    "            if line[:7] == 'Journal':\n",
    "                journal = line.split('{{')[1].split('}}')[0]\n",
    "                corpus_df.loc[paper_count, 'Journal'] = journal\n",
    "            if line[:8] == 'Abstract':\n",
    "                text = line.split('{{')[1].split('\\n')[0]\n",
    "            \n",
    "                # read until end of abstract (can be multi-line)\n",
    "                end_of_abstract = False\n",
    "                while not end_of_abstract:\n",
    "                    line = fp.readline()\n",
    "                    if len(line.split('}}')) == 1:\n",
    "                        text = text + line.split('}}')[0].split('\\n')[0]\n",
    "                    else:\n",
    "                        text = text + line.split('}}')[0].split('\\n')[0]\n",
    "                        end_of_abstract = True\n",
    "                corpus_df.loc[paper_count, 'Abstract'] = text\n",
    "\n",
    "            if line[:3] == 'DOI':\n",
    "                doi = line.split('{{')[1].split('}}')[0]\n",
    "                corpus_df.loc[paper_count, 'DOI'] = doi\n",
    "            if line[:4] == 'Year':\n",
    "                year = line.split('{{')[1].split('}}')[0]\n",
    "                corpus_df.loc[paper_count, 'Year'] = year\n",
    "            if line[:17] == 'Early Access Date':\n",
    "                year = line.split('{{')[1].split('}}')[0][-4:]\n",
    "                corpus_df.loc[paper_count, 'Year'] = year\n",
    "            if line[:11] == 'Affiliation':\n",
    "                affiliation = line.split('{{')[1].split('}}')[0]\n",
    "                affiliation1 = affiliation.split('.')[0]\n",
    "                affiliation2 = affiliation1.split(',')[-1]\n",
    "                affiliation3 = affiliation2.split(' ')[-1]\n",
    "                test_list = ['1','2','3','4','5','6','7','8','9','0']\n",
    "  \n",
    "                #Setting all the zipcodes to US of A!            \n",
    "                if [ele for ele in test_list if(ele in affiliation3)]:\n",
    "                    affiliation3 = 'USA'\n",
    "                corpus_df.loc[paper_count, 'Affiliation'] = affiliation3\n",
    "            \n",
    "    # close file\n",
    "    fp.close()"
   ]
  },
  {
   "cell_type": "code",
   "execution_count": null,
   "metadata": {},
   "outputs": [],
   "source": [
    "# pickle the output\n",
    "corpus_df.to_pickle(\"data/raw_corpus.pkl\")"
   ]
  },
  {
   "cell_type": "code",
   "execution_count": null,
   "metadata": {},
   "outputs": [],
   "source": [
    "# convert abstracts to strings\n",
    "# required to use `re` commands\n",
    "data = corpus_df['Abstract'].apply(str)"
   ]
  },
  {
   "cell_type": "code",
   "execution_count": null,
   "metadata": {},
   "outputs": [],
   "source": [
    "# manually clean the abstracts\n",
    "\n",
    "# Remove Emails\n",
    "data = [re.sub('\\S*@\\S*\\s?', '', text) for text in data]\n",
    "\n",
    "# Remove new line characters\n",
    "data = [re.sub('\\s+', ' ', text) for text in data]\n",
    "\n",
    "# Remove distracting single quotes\n",
    "data = [re.sub(\"\\'\", \"\", text) for text in data]\n",
    "\n",
    "# Hand clean everything we notice\n",
    "data = [re.sub('ﬂ', 'fl', text) for text in data]\n",
    "data = [re.sub('[ü\f",
    "←öä∀↓玉成‘’“”…©@-_/≤≥−–∂◦‡×γ∞∼±∞→⇔¨þ´≡íáˇý°φτττ¼.•˜ϕˆ˜°Á¯πłłβκßθıﬁ‰:;ψδ∈ρÞωÀηµεψ∝ðξα²®≈λσ¢·∗¤√]', '', text) for text in data]\n",
    "data = [re.sub('fig', '', text) for text in data]\n",
    "data = [re.sub('use', '', text) for text in data]\n",
    "data = [re.sub('also', '', text) for text in data]\n",
    "data = [re.sub('show', '', text) for text in data]\n",
    "data = [re.sub('even', '', text) for text in data]\n",
    "data = [re.sub('give', '', text) for text in data]\n",
    "data = [re.sub('versant', '', text) for text in data]\n",
    "data = [re.sub('statistique', '', text) for text in data]\n",
    "data = [re.sub('des_crue', '', text) for text in data]\n",
    "data = [re.sub('pour', '', text) for text in data]\n",
    "data = [re.sub('alor', '', text) for text in data]\n",
    "data = [re.sub('measurement', '', text) for text in data]\n",
    "data = [re.sub('result', '', text) for text in data]\n",
    "data = [re.sub('method', '', text) for text in data]\n",
    "data = [re.sub('study', '', text) for text in data]\n",
    "data = [re.sub('estimate', '', text) for text in data]\n",
    "data = [re.sub('set', '', text) for text in data]\n",
    "data = [re.sub('function', '', text) for text in data]\n",
    "data = [re.sub('test', '', text) for text in data]\n",
    "data = [re.sub('result', '', text) for text in data]\n",
    "data = [re.sub('equation', '', text) for text in data]\n",
    "data = [re.sub('mean', '', text) for text in data]\n",
    "data = [re.sub('total', '', text) for text in data]\n",
    "data = [re.sub('des_crue', '', text) for text in data]\n",
    "data = [re.sub('mazone_obido', '', text) for text in data]\n",
    "data = [re.sub('resultat', '', text) for text in data]\n",
    "data = [re.sub('bido', '', text) for text in data]\n",
    "data = [re.sub('debit', '', text) for text in data]\n",
    "data = [re.sub('crue', '', text) for text in data]\n",
    "data = [re.sub('include', '', text) for text in data]\n",
    "data = [re.sub('faible', '', text) for text in data]\n",
    "data = [re.sub('toujour', '', text) for text in data]\n",
    "data = [re.sub('saturee', '', text) for text in data]\n",
    "data = [re.sub('donnee', '', text) for text in data]\n",
    "data = [re.sub('etude', '', text) for text in data]\n",
    "data = [re.sub('rance', '', text) for text in data]\n",
    "data = [re.sub('time', '', text) for text in data]\n",
    "data = [re.sub('consist', '', text) for text in data]\n",
    "data = [re.sub('update', '', text) for text in data]\n",
    "data = [re.sub('opyright_ohn', '', text) for text in data]\n",
    "data = [re.sub('copyright', '', text) for text in data]"
   ]
  },
  {
   "cell_type": "code",
   "execution_count": null,
   "metadata": {},
   "outputs": [],
   "source": [
    "# change each document to a list of words\n",
    "def sent_to_words(sentences):\n",
    "    for sentence in sentences:\n",
    "        yield(gensim.utils.simple_preprocess(str(sentence), deacc=True))  # deacc=True removes punctuations\n",
    "\n",
    "data_words = list(sent_to_words(data))"
   ]
  },
  {
   "cell_type": "code",
   "execution_count": null,
   "metadata": {},
   "outputs": [],
   "source": [
    "# Build the bigram and trigram models\n",
    "bigram = gensim.models.Phrases(data_words, min_count=5, threshold=100) # higher threshold fewer phrases.\n",
    "trigram = gensim.models.Phrases(bigram[data_words], threshold=100)  \n",
    "\n",
    "# Faster way to get a sentence clubbed as a trigram/bigram\n",
    "bigram_mod = gensim.models.phrases.Phraser(bigram)\n",
    "trigram_mod = gensim.models.phrases.Phraser(trigram)"
   ]
  },
  {
   "cell_type": "code",
   "execution_count": null,
   "metadata": {},
   "outputs": [],
   "source": [
    "# Define functions for stopwords, bigrams, trigrams and lemmatization\n",
    "def remove_stopwords(texts):\n",
    "    return [[word for word in simple_preprocess(str(doc)) if word not in stop_words] for doc in texts]\n",
    "\n",
    "def make_bigrams(texts):\n",
    "    return [bigram_mod[doc] for doc in texts]\n",
    "\n",
    "def make_trigrams(texts):\n",
    "    return [trigram_mod[bigram_mod[doc]] for doc in texts]\n",
    "\n",
    "def lemmatization(texts, allowed_postags=['NOUN', 'ADJ', 'VERB', 'ADV']):\n",
    "    \"\"\"https://spacy.io/api/annotation\"\"\"\n",
    "    texts_out = []\n",
    "    for sent in texts:\n",
    "        doc = nlp(\" \".join(sent)) \n",
    "        texts_out.append([token.lemma_ for token in doc if token.pos_ in allowed_postags])\n",
    "    return texts_out"
   ]
  },
  {
   "cell_type": "code",
   "execution_count": null,
   "metadata": {},
   "outputs": [],
   "source": [
    "# NLTK Stop words\n",
    "stop_words = stopwords.words('english')\n",
    "stop_words.extend(['from', 'subject', 're', 'edu', 'use'])\n",
    "\n",
    "# Remove Stop Words\n",
    "data_words_nostops = remove_stopwords(data_words)\n",
    "\n",
    "# Form Bigrams\n",
    "data_words_bigrams = make_bigrams(data_words_nostops)"
   ]
  },
  {
   "cell_type": "code",
   "execution_count": null,
   "metadata": {},
   "outputs": [],
   "source": [
    "# Initialize spacy 'en' model, keeping only tagger component (for efficiency)\n",
    "# Must run this command separately, but only once: python3 -m spacy download en\n",
    "nlp = spacy.load('en', disable=['parser', 'ner'])\n",
    "\n",
    "# Do lemmatization keeping only noun, adj, vb, adv\n",
    "data_lemmatized = lemmatization(data_words_bigrams, allowed_postags=['NOUN', 'ADJ', 'VERB', 'ADV'])\n",
    "data_lemmatized[:2]"
   ]
  },
  {
   "cell_type": "code",
   "execution_count": null,
   "metadata": {},
   "outputs": [],
   "source": [
    "# Save the lemmatized data\n",
    "with open(\"data/data_lemmatized.pkl\", 'wb') as f:\n",
    "     pickle.dump(data_lemmatized, f)"
   ]
  },
  {
   "cell_type": "code",
   "execution_count": null,
   "metadata": {},
   "outputs": [],
   "source": [
    "# Create Dictionary\n",
    "id2word = corpora.Dictionary(data_lemmatized)\n",
    "\n",
    "# Create Corpus\n",
    "texts = data_lemmatized\n",
    "\n",
    "# Term Document Frequency\n",
    "corpus = [id2word.doc2bow(text) for text in texts]\n",
    "\n",
    "# View\n",
    "print(corpus[:2])"
   ]
  },
  {
   "cell_type": "code",
   "execution_count": null,
   "metadata": {},
   "outputs": [],
   "source": [
    "# Save the corpus and the id2word map\n",
    "with open(\"data/cleaned_corpus.pkl\", 'wb') as f:\n",
    "     pickle.dump(corpus, f)\n",
    "with open(\"data/id2word.pkl\", 'wb') as f:\n",
    "     pickle.dump(id2word, f)"
   ]
  },
  {
   "cell_type": "code",
   "execution_count": null,
   "metadata": {},
   "outputs": [],
   "source": [
    "# Human readable format of document-term-frequency matrix\n",
    "[[(id2word[id], freq) for id, freq in cp] for cp in corpus[:2]]"
   ]
  },
  {
   "cell_type": "code",
   "execution_count": null,
   "metadata": {},
   "outputs": [],
   "source": [
    "# Create corpus figure\n",
    "\n",
    "# unique journals\n",
    "journals = np.unique(corpus_df['Journal'])\n",
    "years = np.unique(corpus_df['Year'])\n",
    "\n",
    "# init storage\n",
    "corpus_distribution = np.full([nJournals,nYears], np.nan)\n",
    "\n",
    "# count per journal per year\n",
    "for journal in journals:\n",
    "    for year in years:\n",
    "        print(np.where( corpus_df['Year'] == year and corpus_df['Journal'] == journal))"
   ]
  },
  {
   "cell_type": "code",
   "execution_count": null,
   "metadata": {},
   "outputs": [],
   "source": []
  }
 ],
 "metadata": {
  "kernelspec": {
   "display_name": "Python 3",
   "language": "python",
   "name": "python3"
  },
  "language_info": {
   "codemirror_mode": {
    "name": "ipython",
    "version": 3
   },
   "file_extension": ".py",
   "mimetype": "text/x-python",
   "name": "python",
   "nbconvert_exporter": "python",
   "pygments_lexer": "ipython3",
   "version": "3.7.6"
  }
 },
 "nbformat": 4,
 "nbformat_minor": 2
}
