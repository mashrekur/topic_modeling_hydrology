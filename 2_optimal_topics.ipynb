{
 "cells": [
  {
   "cell_type": "code",
   "execution_count": 1,
   "metadata": {},
   "outputs": [],
   "source": [
    "import pickle as pkl\n",
    "import logging\n",
    "import numpy as np\n",
    "import gensim"
   ]
  },
  {
   "cell_type": "code",
   "execution_count": 2,
   "metadata": {},
   "outputs": [],
   "source": [
    "# load cleaned corpus\n",
    "with open('data/cleaned_corpus.pkl', 'rb') as f:\n",
    "    corpus = pkl.load(f)\n",
    "with open(\"data/id2word.pkl\", 'rb') as f:\n",
    "    id2word= pkl.load(f)"
   ]
  },
  {
   "cell_type": "code",
   "execution_count": 3,
   "metadata": {},
   "outputs": [],
   "source": [
    "#parameters of topic size search\n",
    "max_topics = 50\n",
    "min_topics = 2\n",
    "step_size = 1"
   ]
  },
  {
   "cell_type": "code",
   "execution_count": 4,
   "metadata": {},
   "outputs": [],
   "source": [
    "# init storage\n",
    "list_topics = []\n",
    "list_coherence = []\n",
    "perplexity = np.full(max_topics, np.nan)\n",
    "coherence = np.full(max_topics, np.nan)"
   ]
  },
  {
   "cell_type": "code",
   "execution_count": null,
   "metadata": {},
   "outputs": [],
   "source": [
    "# loop through topic sizes\n",
    "for topics in range(min_topics, max_topics, step_size):\n",
    "\n",
    "    # enable logging\n",
    "    logging.basicConfig(filename=f'log_files/gensim_{topics}_topics.log',\n",
    "                    format=\"%(asctime)s:%(levelname)s:%(message)s\",\n",
    "                    level=logging.INFO)\n",
    "\n",
    "    # Build LDA model with this number of topics\n",
    "    lda_model = gensim.models.ldamodel.LdaModel(corpus=corpus,\n",
    "                                           id2word=id2word,\n",
    "                                           num_topics=topics, \n",
    "                                           random_state=100,\n",
    "                                           update_every=1,\n",
    "                                           chunksize=1000,\n",
    "                                           passes=100,\n",
    "#                                            iterations=5000,\n",
    "                                           alpha='auto',\n",
    "                                           eval_every=1,\n",
    "#                                            minimum_probability=0,\n",
    "                                           per_word_topics=True)\n",
    "    \n",
    "    #Compute Perplexity\n",
    "    perplexity[topics] = lda_model.log_perplexity(corpus)  # a measure of how good the model is. lower the better.\n",
    "\n",
    "    # Compute Coherence Score\n",
    "    coherence_model_lda = CoherenceModel(model=lda_model, texts=data_lemmatized, dictionary=id2word, coherence='c_v')\n",
    "    coherence[topics] = coherence_model_lda.get_coherence()\n",
    "    \n",
    "    #save results\n",
    "    lda_model.save(f\"trained_models/trained_lda_model_search_{topics}\")\n",
    "    np.save(f\"data/perplexity_search_{topics}\",perplexity)\n",
    "    np.save(f\"data/coherence_search_{topics}\",coherence)\n",
    "    \n",
    "    # screen report\n",
    "    print(f\"Num Topics = {topics}: Perplexity = {perplexity[topics]}, Coherence = {coherence[topics]}\")\n",
    "    list_topics.append(topics)\n",
    "    list_coherence.append(coherence[topics])\n"
   ]
  }
 ],
 "metadata": {
  "kernelspec": {
   "display_name": "Python 3",
   "language": "python",
   "name": "python3"
  },
  "language_info": {
   "codemirror_mode": {
    "name": "ipython",
    "version": 3
   },
   "file_extension": ".py",
   "mimetype": "text/x-python",
   "name": "python",
   "nbconvert_exporter": "python",
   "pygments_lexer": "ipython3",
   "version": "3.7.3"
  }
 },
 "nbformat": 4,
 "nbformat_minor": 2
}
