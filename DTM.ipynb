{
 "cells": [
  {
   "cell_type": "code",
   "execution_count": null,
   "metadata": {},
   "outputs": [],
   "source": [
    "import logging\n",
    "import pickle as pkl\n",
    "import gensim\n",
    "import numpy as np\n",
    "from gensim.models.ldamulticore import LdaMulticore\n",
    "import argparse"
   ]
  },
  {
   "cell_type": "code",
   "execution_count": null,
   "metadata": {},
   "outputs": [],
   "source": [
    "# For time_slice to work properly with ldaseqmodel we need to first order our dataframe ascending, \n",
    "# i.e. from oldest to newest.\n",
    "# Create a time_slice variable so we can later feed it back into the model\n",
    "# Suppose our corpus has 30 documents, with 5 in the first time-slice, 10 in the second, and 15 in the third.\n",
    "# our time_slice argument is time_slice=[5,10,15]\n",
    "\n",
    "#takes all unique values in data.Year as well as how often they occur and returns them as an array.\n",
    "uniqueyears, time_slices = np.unique(data.Year, return_counts=True) \n",
    "\n",
    "#see what youve made\n",
    "print(np.asarray((uniqueyears, time_slices)).T) \n"
   ]
  },
  {
   "cell_type": "code",
   "execution_count": null,
   "metadata": {},
   "outputs": [],
   "source": [
    "# enable logging\n",
    "logging.basicConfig(filename='log_files/gensim_prespecified_topics.log',\n",
    "                    format=\"%(asctime)s:%(levelname)s:%(message)s\",\n",
    "                    level=logging.INFO)"
   ]
  },
  {
   "cell_type": "code",
   "execution_count": null,
   "metadata": {},
   "outputs": [],
   "source": [
    "# load cleaned corpus\n",
    "with open('data/cleaned_corpus.pkl', 'rb') as f:\n",
    "    corpus = pkl.load(f)\n",
    "with open(\"data/id2word.pkl\", 'rb') as f:\n",
    "    id2word= pkl.load(f)"
   ]
  },
  {
   "cell_type": "code",
   "execution_count": null,
   "metadata": {},
   "outputs": [],
   "source": [
    "# Choose the number of topics\n",
    "nTopics = 25"
   ]
  },
  {
   "cell_type": "code",
   "execution_count": null,
   "metadata": {},
   "outputs": [],
   "source": [
    "# Train the LDA model with a prespecified number of topics\n",
    "lda_model =                   LdaMulticore(corpus=corpus,\n",
    "                                           id2word=id2word,\n",
    "                                           num_topics=nTopics, \n",
    "                                           random_state=100,\n",
    "                                           chunksize=100,\n",
    "                                           passes=3000,\n",
    "#                                            iterations=10000,\n",
    "#                                            minimum_probability=0,\n",
    "                                           per_word_topics=True)"
   ]
  },
  {
   "cell_type": "code",
   "execution_count": null,
   "metadata": {},
   "outputs": [],
   "source": [
    "#slicing \n"
   ]
  },
  {
   "cell_type": "code",
   "execution_count": null,
   "metadata": {},
   "outputs": [],
   "source": [
    "def train_dtm(articles, n_topics, outfile=\"dtm\", dates=None, time_slices=None):\n",
    "    if time_slices is None and dates is not None:\n",
    "        counts = Counter(dates)\n",
    "        time_slices = list(counts.values())\n",
    "        print(\"Dates: \", counts)\n",
    "    print(\"Time slices:\", time_slices)\n",
    "    chain_var = 0.1\n",
    "    common_dictionary = corpora.Dictionary(articles)\n",
    "    common_corpus = [common_dictionary.doc2bow(a) for a in articles]\n",
    "    ldaseq = LdaSeqModel(corpus=common_corpus, time_slice=time_slices,\n",
    "                         num_topics=n_topics, id2word=common_dictionary,\n",
    "                         chain_variance=chain_var)\n",
    "    model_file = \"trained_models/\"+outfile\n",
    "    ldaseq.save(model_file)\n",
    "    dict_filename = model_file+\"_dict.pkl\"\n",
    "    pickle.dump(common_dictionary, open(dict_filename, \"wb\"))\n",
    "    dict_filename = model_file+\"_corpus.pkl\"\n",
    "    pickle.dump(common_corpus, open(dict_filename, \"wb\"))\n",
    "\n",
    "    print(\"Saved DTM model as\", model_file, \"!\")"
   ]
  },
  {
   "cell_type": "code",
   "execution_count": null,
   "metadata": {},
   "outputs": [],
   "source": [
    "# Save the trained LDA model\n",
    "lda_model.save(f\"trained_models/trained_lda_model_final_{lda_model.num_topics}\")"
   ]
  },
  {
   "cell_type": "code",
   "execution_count": null,
   "metadata": {},
   "outputs": [],
   "source": [
    "# Extract the topic distributions for each paper as numpy array\n",
    "hm = np.zeros([len(corpus), lda_model.num_topics])\n",
    "for i in range(len(doc_lda)):\n",
    "    for topic_pair in doc_lda[i][0]:\n",
    "        hm[i, topic_pair[0]] = topic_pair[1]\n"
   ]
  },
  {
   "cell_type": "code",
   "execution_count": null,
   "metadata": {},
   "outputs": [],
   "source": [
    "# Save topic distributions as numpy array\n",
    "np.save(f'data/topic_distributions_final_{lda_model.num_topics}', hm)"
   ]
  }
 ],
 "metadata": {
  "kernelspec": {
   "display_name": "Python 3",
   "language": "python",
   "name": "python3"
  },
  "language_info": {
   "codemirror_mode": {
    "name": "ipython",
    "version": 3
   },
   "file_extension": ".py",
   "mimetype": "text/x-python",
   "name": "python",
   "nbconvert_exporter": "python",
   "pygments_lexer": "ipython3",
   "version": "3.7.3"
  }
 },
 "nbformat": 4,
 "nbformat_minor": 2
}
