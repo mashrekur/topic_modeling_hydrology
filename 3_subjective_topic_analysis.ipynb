{
 "cells": [
  {
   "cell_type": "code",
   "execution_count": 1,
   "metadata": {},
   "outputs": [],
   "source": [
    "import pickle as pkl\n",
    "# from gensim.models import LdaModel\n",
    "import numpy as np\n",
    "from gensim.models import LdaSeqModel"
   ]
  },
  {
   "cell_type": "markdown",
   "metadata": {},
   "source": [
    "# Load Data"
   ]
  },
  {
   "cell_type": "code",
   "execution_count": 14,
   "metadata": {},
   "outputs": [],
   "source": [
    "# Load model\n",
    "dtm_model = LdaSeqModel.load('trained_models/dtm_model45')"
   ]
  },
  {
   "cell_type": "code",
   "execution_count": 5,
   "metadata": {},
   "outputs": [
    {
     "name": "stderr",
     "output_type": "stream",
     "text": [
      "/var/folders/y0/kygdp4c13x56469jnrq5w3z80000gn/T/ipykernel_22390/2255014110.py:17: DeprecationWarning: `np.int` is a deprecated alias for the builtin `int`. To silence this warning, use `int` by itself. Doing this will not modify any behavior and is safe. When replacing `np.int`, you may wish to use e.g. `np.int64` or `np.int32` to specify the precision. If you wish to review your current use, check the release note link for additional information.\n",
      "Deprecated in NumPy 1.20; for more details and guidance: https://numpy.org/devdocs/release/1.20.0-notes.html#deprecations\n",
      "  time_slice = np.array(time_slice_list)[:,1].astype(np.int)\n"
     ]
    }
   ],
   "source": [
    "#get time_slice - a list of the numbers of documents per time slice (year)\n",
    "# Load dataframe to skip cleaning process\n",
    "with open('data/raw_corpus_broad_dtm.pkl', 'rb') as f:\n",
    "    corpus_df = pkl.load(f)\n",
    "    \n",
    "#sort dataframe by year\n",
    "\n",
    "corpus_df_dtm = corpus_df.sort_values('Year', axis = 0, ascending = True, inplace=False)\n",
    "corpus_df_dtm.reset_index(drop=True, inplace=True)\n",
    "\n",
    "# creating an array of number of documents by year\n",
    "time_slice_list = []\n",
    "time_seq = []\n",
    "for y, year in enumerate(np.unique(corpus_df_dtm['Year'])):\n",
    "    time_slice_list.append((year,(corpus_df_dtm['Year']==year).value_counts()[1]))\n",
    "    \n",
    "time_slice = np.array(time_slice_list)[:,1].astype(np.int)\n",
    "time_slice = time_slice.tolist()\n",
    "time_seq = time_slice"
   ]
  },
  {
   "cell_type": "code",
   "execution_count": 6,
   "metadata": {},
   "outputs": [],
   "source": [
    "#load doc-topic distributions\n",
    "with open('data/dtm_doc_topic_all.pkl', 'rb') as f:\n",
    "    arr_arr = pkl.load(f)"
   ]
  },
  {
   "cell_type": "code",
   "execution_count": 121,
   "metadata": {},
   "outputs": [
    {
     "data": {
      "text/plain": [
       "array([1934, 3676, 3708, 1867, 4304, 3698,  576, 3172,   41,  603])"
      ]
     },
     "execution_count": 121,
     "metadata": {},
     "output_type": "execute_result"
    }
   ],
   "source": [
    "#Get index of documents associated with topic and sort them\n",
    "topic_idx = (-arr_arr[28][:,35]).argsort()\n",
    "topic_idx[100:110]"
   ]
  },
  {
   "cell_type": "code",
   "execution_count": 128,
   "metadata": {},
   "outputs": [
    {
     "data": {
      "text/plain": [
       "'Evaluation of multiple forcing data sets for precipitation and shortwave\\n'"
      ]
     },
     "execution_count": 128,
     "metadata": {},
     "output_type": "execute_result"
    }
   ],
   "source": [
    "#View document titles\n",
    "corpus_df.loc[41,'Title']"
   ]
  },
  {
   "cell_type": "markdown",
   "metadata": {},
   "source": [
    "# Subjective Topic Naming"
   ]
  },
  {
   "cell_type": "code",
   "execution_count": 9,
   "metadata": {
    "scrolled": false
   },
   "outputs": [],
   "source": [
    "# look at top key words in each topic\n",
    "topics = dtm_model.print_topics()\n"
   ]
  },
  {
   "cell_type": "code",
   "execution_count": 191,
   "metadata": {},
   "outputs": [
    {
     "data": {
      "text/plain": [
       "[('sample', 0.18367263750860463),\n",
       " ('colloid', 0.027556756646114025),\n",
       " ('detect', 0.026394642584773545),\n",
       " ('collect', 0.024094105335529605),\n",
       " ('detection', 0.017672964044348306),\n",
       " ('contamination', 0.017137739050635807),\n",
       " ('sewage', 0.014215550835373097),\n",
       " ('find', 0.01261549894128351),\n",
       " ('virus', 0.009492034928209417),\n",
       " ('range', 0.008898059978893006),\n",
       " ('determine', 0.008623934370680427),\n",
       " ('ample', 0.008578173869523278),\n",
       " ('positive', 0.00816293949529266),\n",
       " ('isolate', 0.007974772811777588),\n",
       " ('indicator', 0.007804571184082961),\n",
       " ('concentration', 0.007758333712389302),\n",
       " ('use', 0.0071633320018699405),\n",
       " ('high', 0.007136792732233494),\n",
       " ('analyze', 0.006883255112805975),\n",
       " ('presence', 0.0066334898068419485)]"
      ]
     },
     "execution_count": 191,
     "metadata": {},
     "output_type": "execute_result"
    }
   ],
   "source": [
    "topics[22]"
   ]
  },
  {
   "cell_type": "code",
   "execution_count": null,
   "metadata": {},
   "outputs": [],
   "source": [
    "#45 dtm topics\n",
    "topic_names = [\n",
    "'Streamflow',\n",
    "'Groundwater',\n",
    "'Wastewater Treatment',\n",
    "'Ecosystem Studies',\n",
    "'Hydrobiology',\n",
    "'Hydrogeology',\n",
    "'Mass-balance and Transfer',\n",
    "'Sediment Transport',\n",
    "'Rainfall-Runoff',\n",
    "'Stochastic Models',\n",
    "'Hydrochemistry',\n",
    "'Microbiology',\n",
    "'Nutrient and Heavy Metal Removal',\n",
    "'Systems Hydrology',\n",
    "'Quantitative Methods',\n",
    "'Water Treatment',\n",
    "'Irrigation',  \n",
    "'Uncertainty',\n",
    "'Biodegradation',\n",
    "'Solute Transport',\n",
    "'Land-Surface Flux',\n",
    "'Modeling',\n",
    "'Pollutant Removal',\n",
    "'Evaporation & Transpiration',\n",
    "'Gauging & Monitoring',\n",
    "'Reservoir Management',\n",
    "'Pollutant Removal',\n",
    "'Topography',\n",
    "'Water Management Solutions',\n",
    "'Vadose Zone',\n",
    "'Ecological Modeling',\n",
    "'Soil Chemistry',\n",
    "'Water Policy and Planning',\n",
    "'Surface Water Quality',\n",
    "'Precipitation',\n",
    "'Soil and Hydrometeorological Sampling',\n",
    "'Infiltration',\n",
    "'Spatial Variability',\n",
    "'Numerical Modeling',\n",
    "'Rainfall',\n",
    "'Sedimentology',\n",
    "'Groundwater Supply & Demand',\n",
    "'Aquifers',\n",
    "'Watershed Features',\n",
    "'Climate Change Impacts',\n",
    "]"
   ]
  }
 ],
 "metadata": {
  "kernelspec": {
   "display_name": "Python [conda env:nn_project]",
   "language": "python",
   "name": "conda-env-nn_project-py"
  },
  "language_info": {
   "codemirror_mode": {
    "name": "ipython",
    "version": 3
   },
   "file_extension": ".py",
   "mimetype": "text/x-python",
   "name": "python",
   "nbconvert_exporter": "python",
   "pygments_lexer": "ipython3",
   "version": "3.9.10"
  }
 },
 "nbformat": 4,
 "nbformat_minor": 4
}
