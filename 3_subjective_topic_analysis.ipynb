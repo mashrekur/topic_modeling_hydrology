{
 "cells": [
  {
   "cell_type": "code",
   "execution_count": 3,
   "metadata": {},
   "outputs": [],
   "source": [
    "import pickle as pkl\n",
    "from gensim.models import LdaModel\n",
    "import numpy as np"
   ]
  },
  {
   "cell_type": "code",
   "execution_count": null,
   "metadata": {},
   "outputs": [],
   "source": [
    "# Optimal number of topics\n",
    "nTopics = 30"
   ]
  },
  {
   "cell_type": "markdown",
   "metadata": {},
   "source": [
    "# Load Data"
   ]
  },
  {
   "cell_type": "code",
   "execution_count": 6,
   "metadata": {},
   "outputs": [],
   "source": [
    "# Load model\n",
    "lda_model = LdaModel.load(f'trained_models/trained_lda_model_{nTopics}')"
   ]
  },
  {
   "cell_type": "code",
   "execution_count": 7,
   "metadata": {},
   "outputs": [],
   "source": [
    "# Load topic distributions\n",
    "topic_distributions = np.load(f'data/topic_distributions_{lda_model.num_topics}.npy')"
   ]
  },
  {
   "cell_type": "code",
   "execution_count": 9,
   "metadata": {},
   "outputs": [],
   "source": [
    "# Load raw corpus dataframe\n",
    "with open('data/raw_corpus.pkl', 'rb') as f:\n",
    "    corpus_df = pkl.load(f)"
   ]
  },
  {
   "cell_type": "code",
   "execution_count": 10,
   "metadata": {},
   "outputs": [],
   "source": [
    "# Run the model\n",
    "doc_lda = lda_model[corpus]"
   ]
  },
  {
   "cell_type": "markdown",
   "metadata": {},
   "source": [
    "# Subjective Topic Naming"
   ]
  },
  {
   "cell_type": "code",
   "execution_count": 12,
   "metadata": {},
   "outputs": [],
   "source": [
    "topic = 29\n",
    "topic_idx = (-topic_distributions[:,topic]).argsort()\n",
    "corpus_df.loc[topic_idx[:100],'Title'].to_csv(f'topics_{nTopics}_topic_{topic}.csv')"
   ]
  },
  {
   "cell_type": "code",
   "execution_count": 14,
   "metadata": {},
   "outputs": [
    {
     "name": "stdout",
     "output_type": "stream",
     "text": [
      "73511    On the estimation of phreatic aquifer paramete...\n",
      "74187    An Agent-based Modeling Framework for Assessin...\n",
      "74122    A Spatially Explicit Multi-Criteria Analysis M...\n",
      "74109    Hydrological Environmental Responses of LID an...\n",
      "71242    Analysis of Irrigation Needs Using an Approach...\n",
      "                               ...                        \n",
      "39546    Fine-suspended sediment and water budgets for ...\n",
      "39538    The pronounced seasonality of global groundwat...\n",
      "74051    Optimal Design of Check Dams in Mountainous Wa...\n",
      "18408    Multiscaling analysis in a structured clay soi...\n",
      "54290    Cost-Benefit Analysis for Supporting Intermuni...\n",
      "Name: Title, Length: 100, dtype: object\n"
     ]
    }
   ],
   "source": [
    "print(corpus_df.loc[topic_idx[:100],'Title'])"
   ]
  },
  {
   "cell_type": "code",
   "execution_count": null,
   "metadata": {},
   "outputs": [],
   "source": [
    "# Topic 0: Precipitation Extremems & Distributions\n",
    "# Topic 1: Climate Change\n",
    "# Topic 2: River Networks, Topography, & Scaling\n",
    "# Topic 3: Hydrogeology\n",
    "# Topic 4: Forecasting\n",
    "# Topic 5: Energy Balance (Hydrometeorology, Land Surface)\n",
    "# Topic 6: Snow and Ice\n",
    "# Topic 7: Sediment & Erosion\n",
    "# Topic 8: Water Resources Management\n",
    "# Topic 9: Hydrogeomorphology\n",
    "# Topic 10: Uncertainty & Calibration\n",
    "# Topic 11: Statistical Hydrology\n",
    "# Topic 12: Quality & Transport\n",
    "# Topic 13: Miscilaneous\n",
    "# Topic 14: Soil Moisture\n",
    "# Topic 15: Floods & Discharge\n",
    "# Topic 16: Precipitation Trends & Climatology"
   ]
  },
  {
   "cell_type": "code",
   "execution_count": null,
   "metadata": {},
   "outputs": [],
   "source": []
  }
 ],
 "metadata": {
  "kernelspec": {
   "display_name": "Python 3",
   "language": "python",
   "name": "python3"
  },
  "language_info": {
   "codemirror_mode": {
    "name": "ipython",
    "version": 3
   },
   "file_extension": ".py",
   "mimetype": "text/x-python",
   "name": "python",
   "nbconvert_exporter": "python",
   "pygments_lexer": "ipython3",
   "version": "3.7.6"
  }
 },
 "nbformat": 4,
 "nbformat_minor": 4
}
