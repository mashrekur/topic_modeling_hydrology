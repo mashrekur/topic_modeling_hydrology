{
 "cells": [
  {
   "cell_type": "code",
   "execution_count": 1,
   "metadata": {},
   "outputs": [],
   "source": [
    "import pandas as pd\n",
    "import numpy as np\n",
    "import pickle as pkl\n",
    "import holoviews as hv\n",
    "from holoviews import opts, dim\n",
    "from gensim.models import LdaModel"
   ]
  },
  {
   "cell_type": "code",
   "execution_count": 2,
   "metadata": {},
   "outputs": [],
   "source": [
    "# Optimal number of topics\n",
    "nTopics = 21"
   ]
  },
  {
   "cell_type": "code",
   "execution_count": 3,
   "metadata": {},
   "outputs": [],
   "source": [
    "# Define colors to associate with each topic\n",
    "custom_colors = {\n",
    " 'burlywood': '#DEB887',\n",
    " 'chocolate': '#D2691E',\n",
    " 'crimson': '#DC143C',\n",
    " 'darkgreen': '#006400',\n",
    " 'darkorange': '#FF8C00',\n",
    " 'darkslategrey': '#2F4F4F',\n",
    " 'deepskyblue': '#00BFFF',\n",
    " 'dimgray': '#696969',\n",
    " 'firebrick': '#B22222',\n",
    " 'gold': '#FFD700',\n",
    " 'goldenrod': '#DAA520',\n",
    " 'lawngreen': '#7CFC00',\n",
    " 'lightcoral': '#F08080',\n",
    " 'lightpink': '#FFB6C1',\n",
    " 'mediumvioletred': '#C71585',\n",
    " 'orangered': '#FF4500',\n",
    " 'orchid': '#DA70D6',\n",
    " 'royalblue': '#4169E1',\n",
    " 'slateblue': '#6A5ACD',\n",
    " 'springgreen': '#00FF7F',\n",
    " 'steelblue': '#4682B4',\n",
    " 'teal': '#008080',\n",
    " 'turquoise': '#40E0D0',\n",
    " 'yellow': '#FFFF00',\n",
    " 'blueviolet': '#8A2BE2',\n",
    " 'yellowgreen': '#9ACD32'}\n",
    "\n",
    "# turn into a list\n",
    "colorlist = []\n",
    "for color in custom_colors.values():\n",
    "    colorlist.append(tuple(int(color.lstrip('#')[i:i+2], 16) for i in (0, 2, 4)))"
   ]
  },
  {
   "cell_type": "code",
   "execution_count": 4,
   "metadata": {},
   "outputs": [],
   "source": [
    "# Define topic names\n",
    "topic_names = [\n",
    "                'Systems Hydrology',\n",
    "                'Stochastic Hydrology',\n",
    "                'Water Temperature',\n",
    "                'Water Resources Management',\n",
    "                'Climate Change',\n",
    "                'Fate & Transport',\n",
    "                'Sediment & Erosion',\n",
    "                'Land Surface & Hydromet',\n",
    "                'Vadose Zone',\n",
    "                'Soil Moisture',\n",
    "                'Snow Hydrology',\n",
    "                'Water Treatment',\n",
    "                'Groundwater',\n",
    "                'Channel Flow',\n",
    "                'Hydrogeology (Modeling?)',\n",
    "                'Watershed Hydrology',\n",
    "                'Surface Hydrology Modeling',\n",
    "                'Numerical Modeling',\n",
    "                'Chemistry',\n",
    "                'Computaional Hydrology',\n",
    "                'Organic Waste and Pollutants',\n",
    "                'Topic 21',\n",
    "                'Topic 22',\n",
    "                'Topic 23',\n",
    "                'Topic 24',\n",
    "                'Topic 25',\n",
    "                'Topic 26',\n",
    "                'Topic 27',\n",
    "                'Topic 28',\n",
    "                'Topic 29',\n",
    "                'Topic 30',\n",
    "                ]"
   ]
  },
  {
   "cell_type": "markdown",
   "metadata": {},
   "source": [
    "# Load Data"
   ]
  },
  {
   "cell_type": "code",
   "execution_count": 5,
   "metadata": {},
   "outputs": [],
   "source": [
    "# Load model\n",
    "lda_model = LdaModel.load(f'trained_models/trained_lda_model_{nTopics}')"
   ]
  },
  {
   "cell_type": "code",
   "execution_count": 6,
   "metadata": {},
   "outputs": [],
   "source": [
    "# Load topic distributions\n",
    "topic_distributions = np.load(f'data/topic_distributions_{lda_model.num_topics}.npy')"
   ]
  },
  {
   "cell_type": "code",
   "execution_count": 8,
   "metadata": {},
   "outputs": [],
   "source": [
    "# Pull topics\n",
    "topics = lda_model.show_topics(formatted=False, num_topics=nTopics, num_words=20)"
   ]
  },
  {
   "cell_type": "markdown",
   "metadata": {},
   "source": [
    "# Create Chord Diagrams"
   ]
  },
  {
   "cell_type": "code",
   "execution_count": 43,
   "metadata": {},
   "outputs": [],
   "source": [
    "# Measure correlations\n",
    "correlations = np.corrcoef(np.transpose(topic_distributions))# init storage\n",
    "low_idx = np.where(np.abs(correlations) < 0.10)\n",
    "correlations[low_idx] = 0"
   ]
  },
  {
   "cell_type": "code",
   "execution_count": 44,
   "metadata": {},
   "outputs": [],
   "source": [
    "# Links for Chord Diagrams\n",
    "links = pd.DataFrame(columns = ['source','target','value','n_value','p_value'])\n",
    "row = -1\n",
    "for i in range(topic_distributions.shape[1]):\n",
    "    for j in range(i,topic_distributions.shape[1]):\n",
    "        if not (i==j):\n",
    "            row = row+1\n",
    "            links.loc[row,'source'] = j    \n",
    "            links.loc[row,'target'] = i\n",
    "            links.loc[row,'n_value'] = np.max([0, -correlations[i,j]*100])\n",
    "            links.loc[row,'p_value'] = np.max([0, correlations[i,j]*100])\n",
    "links.value = links.p_value\n",
    "\n",
    "# change data type\n",
    "links = links.astype('int64')"
   ]
  },
  {
   "cell_type": "code",
   "execution_count": 45,
   "metadata": {},
   "outputs": [],
   "source": [
    "# Nodes for Chord Diagrams\n",
    "nodes = pd.DataFrame(columns = ['group','name'])\n",
    "row = -1\n",
    "for i in range(topic_distributions.shape[1]):\n",
    "    row = row+1\n",
    "    nodes.loc[row,'name'] = topic_names[i] \n",
    "    nodes.loc[row,'group'] = 0 \n",
    "\n",
    "# change data type\n",
    "nodes.group = nodes.group.astype('int64')"
   ]
  },
  {
   "cell_type": "code",
   "execution_count": null,
   "metadata": {},
   "outputs": [],
   "source": [
    "hv.extension('bokeh')\n",
    "hv.output(size = 200)"
   ]
  },
  {
   "cell_type": "code",
   "execution_count": null,
   "metadata": {},
   "outputs": [],
   "source": [
    "# plot positive correlations\n",
    "links.value = links.p_value\n",
    "chord = hv.Chord((links, hv.Dataset(pd.DataFrame(nodes), 'index'))).select(value=(5, None))\n",
    "chord.opts(\n",
    "    opts.Chord(cmap='glasbey_light', \n",
    "               edge_cmap='glasbey_light', \n",
    "               edge_color=dim('source').str(), \n",
    "               labels='name', \n",
    "               node_color=dim('index').str()))"
   ]
  },
  {
   "cell_type": "code",
   "execution_count": null,
   "metadata": {},
   "outputs": [],
   "source": [
    "import colorcet\n",
    "# plot positive correlations\n",
    "links.value = links.n_value\n",
    "chord = hv.Chord((links, hv.Dataset(pd.DataFrame(nodes), 'index'))).select(value=(5, None))\n",
    "chord.opts(\n",
    "    opts.Chord(cmap='glasbey_light', \n",
    "               edge_cmap='glasbey_light', \n",
    "               edge_color=dim('source').str(), \n",
    "               labels='name', \n",
    "               node_color=dim('index').str()))"
   ]
  },
  {
   "cell_type": "code",
   "execution_count": null,
   "metadata": {},
   "outputs": [],
   "source": []
  }
 ],
 "metadata": {
  "kernelspec": {
   "display_name": "Python 3",
   "language": "python",
   "name": "python3"
  },
  "language_info": {
   "codemirror_mode": {
    "name": "ipython",
    "version": 3
   },
   "file_extension": ".py",
   "mimetype": "text/x-python",
   "name": "python",
   "nbconvert_exporter": "python",
   "pygments_lexer": "ipython3",
   "version": "3.7.6"
  }
 },
 "nbformat": 4,
 "nbformat_minor": 2
}
