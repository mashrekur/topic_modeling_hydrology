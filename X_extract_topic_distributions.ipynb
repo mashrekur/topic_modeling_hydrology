{
 "cells": [
  {
   "cell_type": "code",
   "execution_count": 1,
   "metadata": {},
   "outputs": [],
   "source": [
    "from gensim.models import LdaModel\n",
    "import pickle as pkl\n",
    "import numpy as np\n",
    "from tqdm.notebook import tqdm\n",
    "from pathlib import Path"
   ]
  },
  {
   "cell_type": "markdown",
   "metadata": {},
   "source": [
    "# Load Data"
   ]
  },
  {
   "cell_type": "code",
   "execution_count": 2,
   "metadata": {},
   "outputs": [],
   "source": [
    "# Load raw corpus dataframe\n",
    "with open('data/cleaned_corpus.pkl', 'rb') as f:\n",
    "    corpus = pkl.load(f)"
   ]
  },
  {
   "cell_type": "code",
   "execution_count": 3,
   "metadata": {},
   "outputs": [],
   "source": [
    "max_topics = 33\n",
    "min_topics = 2"
   ]
  },
  {
   "cell_type": "code",
   "execution_count": 5,
   "metadata": {},
   "outputs": [
    {
     "name": "stdout",
     "output_type": "stream",
     "text": [
      "2\n",
      "Distribution for 2 already exists.\n",
      "3\n",
      "Distribution for 3 already exists.\n",
      "4\n",
      "Distribution for 4 already exists.\n",
      "5\n",
      "Distribution for 5 already exists.\n",
      "6\n",
      "Distribution for 6 already exists.\n",
      "7\n",
      "Distribution for 7 already exists.\n",
      "8\n",
      "Distribution for 8 already exists.\n",
      "9\n",
      "Distribution for 9 already exists.\n",
      "10\n",
      "Distribution for 10 already exists.\n",
      "11\n",
      "Distribution for 11 already exists.\n",
      "12\n",
      "Distribution for 12 already exists.\n",
      "13\n",
      "Distribution for 13 already exists.\n",
      "14\n",
      "Distribution for 14 already exists.\n",
      "15\n"
     ]
    },
    {
     "data": {
      "application/vnd.jupyter.widget-view+json": {
       "model_id": "057e53ee134045b5822d6c0f2551d930",
       "version_major": 2,
       "version_minor": 0
      },
      "text/plain": [
       "HBox(children=(FloatProgress(value=0.0, max=42154.0), HTML(value='')))"
      ]
     },
     "metadata": {},
     "output_type": "display_data"
    },
    {
     "name": "stdout",
     "output_type": "stream",
     "text": [
      "\n",
      "16\n"
     ]
    },
    {
     "data": {
      "application/vnd.jupyter.widget-view+json": {
       "model_id": "46da618807bc418591d5cfd626031b71",
       "version_major": 2,
       "version_minor": 0
      },
      "text/plain": [
       "HBox(children=(FloatProgress(value=0.0, max=42154.0), HTML(value='')))"
      ]
     },
     "metadata": {},
     "output_type": "display_data"
    },
    {
     "name": "stdout",
     "output_type": "stream",
     "text": [
      "\n",
      "17\n"
     ]
    },
    {
     "data": {
      "application/vnd.jupyter.widget-view+json": {
       "model_id": "7f63c0b4a7cf490d964fcc0859205598",
       "version_major": 2,
       "version_minor": 0
      },
      "text/plain": [
       "HBox(children=(FloatProgress(value=0.0, max=42154.0), HTML(value='')))"
      ]
     },
     "metadata": {},
     "output_type": "display_data"
    },
    {
     "name": "stdout",
     "output_type": "stream",
     "text": [
      "\n",
      "18\n"
     ]
    },
    {
     "data": {
      "application/vnd.jupyter.widget-view+json": {
       "model_id": "180b086754fd4915b37ad7d75c661083",
       "version_major": 2,
       "version_minor": 0
      },
      "text/plain": [
       "HBox(children=(FloatProgress(value=0.0, max=42154.0), HTML(value='')))"
      ]
     },
     "metadata": {},
     "output_type": "display_data"
    },
    {
     "name": "stdout",
     "output_type": "stream",
     "text": [
      "\n",
      "19\n",
      "Distribution for 19 already exists.\n",
      "20\n",
      "Distribution for 20 already exists.\n",
      "21\n",
      "Distribution for 21 already exists.\n",
      "22\n",
      "Distribution for 22 already exists.\n",
      "23\n",
      "Distribution for 23 already exists.\n",
      "24\n",
      "Distribution for 24 already exists.\n",
      "25\n",
      "Distribution for 25 already exists.\n",
      "26\n",
      "Distribution for 26 already exists.\n",
      "27\n",
      "Distribution for 27 already exists.\n",
      "28\n",
      "Distribution for 28 already exists.\n",
      "29\n",
      "Distribution for 29 already exists.\n",
      "30\n",
      "Distribution for 30 already exists.\n",
      "31\n",
      "Distribution for 31 already exists.\n",
      "32\n",
      "Distribution for 32 already exists.\n"
     ]
    }
   ],
   "source": [
    "for nTopics in range(min_topics, max_topics):\n",
    "    print(nTopics)\n",
    "    \n",
    "    # load the model\n",
    "    try: \n",
    "        fname = f'trained_models/trained_lda_model_{nTopics}'\n",
    "        lda_model = LdaModel.load(fname)\n",
    "    except:\n",
    "        print(f'No trained model for {nTopics} topics')\n",
    "        continue\n",
    "\n",
    "    # output file name\n",
    "    distribution_file_name = Path(f'data/topic_distributions_{lda_model.num_topics}.npy')\n",
    "    if not distribution_file_name.is_file():\n",
    "\n",
    "        # run the model\n",
    "        doc_lda = lda_model[corpus]\n",
    "\n",
    "        # extract the topic distributions for each paper as numpy array\n",
    "        hm = np.zeros([len(corpus), lda_model.num_topics])\n",
    "        for i in tqdm(range(len(doc_lda))):\n",
    "            for topic_pair in doc_lda[i][0]:\n",
    "                hm[i, topic_pair[0]] = topic_pair[1]\n",
    "\n",
    "        # save topic distributions as numpy array\n",
    "        np.save(distribution_file_name, hm)\n",
    "    else:\n",
    "        print(f'Distribution for {nTopics} already exists.')\n"
   ]
  },
  {
   "cell_type": "code",
   "execution_count": null,
   "metadata": {},
   "outputs": [],
   "source": []
  }
 ],
 "metadata": {
  "kernelspec": {
   "display_name": "Python 3",
   "language": "python",
   "name": "python3"
  },
  "language_info": {
   "codemirror_mode": {
    "name": "ipython",
    "version": 3
   },
   "file_extension": ".py",
   "mimetype": "text/x-python",
   "name": "python",
   "nbconvert_exporter": "python",
   "pygments_lexer": "ipython3",
   "version": "3.7.6"
  }
 },
 "nbformat": 4,
 "nbformat_minor": 4
}
