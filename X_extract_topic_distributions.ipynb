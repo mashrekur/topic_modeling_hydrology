{
 "cells": [
  {
   "cell_type": "code",
   "execution_count": null,
   "metadata": {},
   "outputs": [],
   "source": [
    "from gensim.models import LdaModel\n",
    "import pickle as pkl\n",
    "import numpy as np\n",
    "from tqdm.notebook import tqdm\n",
    "from pathlib import Path"
   ]
  },
  {
   "cell_type": "markdown",
   "metadata": {},
   "source": [
    "# Load Data"
   ]
  },
  {
   "cell_type": "code",
   "execution_count": null,
   "metadata": {},
   "outputs": [],
   "source": [
    "# Load raw corpus dataframe\n",
    "with open('data/cleaned_corpus.pkl', 'rb') as f:\n",
    "    corpus = pkl.load(f)"
   ]
  },
  {
   "cell_type": "code",
   "execution_count": null,
   "metadata": {},
   "outputs": [],
   "source": [
    "max_topics = 40\n",
    "min_topics = 2"
   ]
  },
  {
   "cell_type": "code",
   "execution_count": null,
   "metadata": {},
   "outputs": [],
   "source": [
    "for nTopics in range(min_topics, max_topics):\n",
    "    print(nTopics)\n",
    "    \n",
    "    # load the model\n",
    "    try: \n",
    "        fname = f'trained_models/trained_lda_model_{nTopics}'\n",
    "        lda_model = LdaModel.load(fname)\n",
    "    except:\n",
    "        print(f'No trained model for {nTopics} topics')\n",
    "        continue\n",
    "\n",
    "    # output file name\n",
    "    distribution_file_name = Path(f'data/topic_distributions_{lda_model.num_topics}.npy')\n",
    "    if not distribution_file_name.is_file():\n",
    "\n",
    "        # run the model\n",
    "        doc_lda = lda_model[corpus]\n",
    "\n",
    "        # extract the topic distributions for each paper as numpy array\n",
    "        hm = np.zeros([len(corpus), lda_model.num_topics])\n",
    "        for i in tqdm(range(len(doc_lda))):\n",
    "            for topic_pair in doc_lda[i][0]:\n",
    "                hm[i, topic_pair[0]] = topic_pair[1]\n",
    "\n",
    "        # save topic distributions as numpy array\n",
    "        np.save(distribution_file_name, hm)\n",
    "    else:\n",
    "        print(f'Distribution for {nTopics} already exists.')\n"
   ]
  },
  {
   "cell_type": "code",
   "execution_count": null,
   "metadata": {},
   "outputs": [],
   "source": []
  }
 ],
 "metadata": {
  "kernelspec": {
   "display_name": "Python 3",
   "language": "python",
   "name": "python3"
  },
  "language_info": {
   "codemirror_mode": {
    "name": "ipython",
    "version": 3
   },
   "file_extension": ".py",
   "mimetype": "text/x-python",
   "name": "python",
   "nbconvert_exporter": "python",
   "pygments_lexer": "ipython3",
   "version": "3.7.6"
  }
 },
 "nbformat": 4,
 "nbformat_minor": 4
}
