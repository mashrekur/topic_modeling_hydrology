{
 "cells": [
  {
   "cell_type": "code",
   "execution_count": null,
   "metadata": {},
   "outputs": [],
   "source": [
    "import numpy as np\n",
    "import pickle as pkl\n",
    "import matplotlib.pyplot as plt\n",
    "from gensim.models import LdaModel\n",
    "import pandas as pd\n",
    "import ecopy as ep\n",
    "from scipy import stats\n",
    "\n",
    "nTopics = 45\n",
    "\n",
    "# Load model\n",
    "lda_model = LdaModel.load(f'trained_models/trained_lda_model_new_{nTopics}')\n",
    "# Load topic distributions\n",
    "topic_distributions = np.load(f'data/topic_distributions_broad_{lda_model.num_topics}.npy')\n",
    "topic_distributions_wogw = np.load(f'data/topic_distributions_broad_wogw_{lda_model.num_topics}.npy')\n",
    "# Pull topics\n",
    "topics = lda_model.show_topics(formatted=False, num_topics=nTopics, num_words=20)\n",
    "# load raw corpus dataframe\n",
    "with open('data/raw_corpus_broad.pkl', 'rb') as f:\n",
    "    corpus_df = pkl.load(f)\n",
    "with open('data/raw_corpus_broad_wogw.pkl', 'rb') as f:\n",
    "    corpus_df_wogw = pkl.load(f)"
   ]
  },
  {
   "cell_type": "code",
   "execution_count": null,
   "metadata": {},
   "outputs": [],
   "source": [
    "# Pull years\n",
    "years = np.unique(corpus_df['Year'])"
   ]
  },
  {
   "cell_type": "code",
   "execution_count": null,
   "metadata": {},
   "outputs": [],
   "source": [
    "# Pull papers\n",
    "papers = np.unique(corpus_df['Title'])"
   ]
  },
  {
   "cell_type": "code",
   "execution_count": null,
   "metadata": {},
   "outputs": [],
   "source": [
    "# Paper wise diversity metrics\n",
    "diversity_metrics = ['shannon', 'simpson', 'gini-simpson', 'dominance', 'even']\n",
    "\n",
    "shannon_diversity_paper = {}\n",
    "simpson_diversity_paper = {}\n",
    "gini_diversity_paper = {}\n",
    "dominance_paper = {}\n",
    "shannon_diversity_mean_paper = []\n",
    "simpson_diversity_mean_paper = []\n",
    "gini_diversity_mean_paper = []\n",
    "dominance_mean_paper = []\n",
    "\n",
    "#creating an array of nans with dimensions of years and topics\n",
    "#the year-paper topic dist will be appended to it later\n",
    "arr = np.full([len(years),nTopics], np.nan)\n",
    "                           \n",
    "for y, year in enumerate(years):\n",
    "    for p, paper in enumerate(papers):\n",
    "        #making an array of year-paper wise topic distributions \n",
    "        topic_distributions_paper = topic_distributions[(corpus_df['Year'] == year) & (corpus_df['Title'] == paper),:]\n",
    "        np.append(topic_distributions_paper,arr)\n",
    "        \n",
    "#saving the array because it takes a while to populate\n",
    "with open('topic_distribution_paperwise.npy', 'wb') as f:\n",
    "    np.save(f, topic_distributions_paper)"
   ]
  },
  {
   "cell_type": "code",
   "execution_count": null,
   "metadata": {},
   "outputs": [],
   "source": [
    "#Calculating diversity metrics of papers per year from the year-paper topic dist array\n",
    "#Calculate the mean and append them\n",
    "for y, year in enumerate(years):\n",
    "    shannon_diversity_paper[year] = ep.diversity(topic_distributions_paper, method = 'shannon', breakNA=False, num_equiv=False)\n",
    "    simpson_diversity_paper[year] = ep.diversity(topic_distributions_paper, method = 'simpson', breakNA=False, num_equiv=False)\n",
    "    gini_diversity_paper[year] = ep.diversity(topic_distributions_paper, method = 'gini_simpson', breakNA=False, num_equiv=False)\n",
    "    dominance[year] = ep.diversity(topic_distributions_paper, method = 'dominance', breakNA=False, num_equiv=False)\n",
    "    \n",
    "    \n",
    "    shannon_diversity_mean_paper.append(np.mean(shannon_diversity_paper[year]))\n",
    "    simpson_diversity_mean_paper.append(np.mean(simpson_diversity_paper[year]))\n",
    "    gini_diversity_mean_paper.append(np.mean(gini_diversity_paper[year]))\n",
    "    dominance_mean_paper.append(np.mean(dominance_paper[year]))\n",
    "\n",
    "\n",
    "fig, axs = plt.subplots(2,2,figsize=(15,15))    \n",
    "axs[0, 0].plot(shannon_diversity_mean_paper[:-1])\n",
    "axs[0, 0].set_title('Shannon (paperwise)')\n",
    "axs[0, 1].plot(simpson_diversity_mean_paper[:-1], 'tab:orange')\n",
    "axs[0, 1].set_title('Simpson')\n",
    "axs[1, 0].plot(gini_diversity_mean_paper[:-1],'tab:green')\n",
    "axs[1, 0].set_title('Gini-Simpson')\n",
    "axs[1, 1].plot(dominance_mean_paper[:-1], 'tab:red')\n",
    "axs[1, 1].set_title('Dominance')\n",
    "plt.savefig('figures/diversity_paper_year_mean.png')\n",
    "    "
   ]
  },
  {
   "cell_type": "code",
   "execution_count": null,
   "metadata": {},
   "outputs": [],
   "source": []
  }
 ],
 "metadata": {
  "kernelspec": {
   "display_name": "Python 3",
   "language": "python",
   "name": "python3"
  },
  "language_info": {
   "codemirror_mode": {
    "name": "ipython",
    "version": 3
   },
   "file_extension": ".py",
   "mimetype": "text/x-python",
   "name": "python",
   "nbconvert_exporter": "python",
   "pygments_lexer": "ipython3",
   "version": "3.7.3"
  }
 },
 "nbformat": 4,
 "nbformat_minor": 2
}
